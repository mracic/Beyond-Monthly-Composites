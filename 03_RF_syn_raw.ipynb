{
 "cells": [
  {
   "cell_type": "markdown",
   "id": "b749a806",
   "metadata": {},
   "source": [
    "This notebook explores the use synthetic data and Random Forest algorithm for forest stand classification."
   ]
  },
  {
   "cell_type": "code",
   "execution_count": 1,
   "id": "subsequent-aquarium",
   "metadata": {},
   "outputs": [],
   "source": [
    "import pandas as pd\n",
    "from joblib import Parallel, delayed\n",
    "from tqdm.notebook import tqdm\n",
    "from sklearn import metrics\n",
    "from sklearn.model_selection import KFold\n",
    "from sklearn.ensemble import RandomForestClassifier"
   ]
  },
  {
   "cell_type": "code",
   "execution_count": 2,
   "id": "friendly-modern",
   "metadata": {
    "tags": []
   },
   "outputs": [],
   "source": [
    "name_map = {'Larix decidua': 0,\n",
    " 'Pinus sylvestris': 1,\n",
    " 'Broadleaved trees': 2,\n",
    " 'Picea abies': 3,\n",
    " 'Pinus mugo': 4,\n",
    " 'Pinus cembra': 5,\n",
    " 'Abies alba': 6}\n",
    " # reverse the dictionary\n",
    "value_map = {v: k for k, v in name_map.items()}"
   ]
  },
  {
   "cell_type": "code",
   "execution_count": 3,
   "id": "foster-pulse",
   "metadata": {},
   "outputs": [],
   "source": [
    "# load all features\n",
    "bands = ['B01', 'B02', 'B03', 'B04', 'B05', 'B06', 'B07', 'B08', 'B8A', 'B09','B11', 'B12', 'ndvi']\n",
    "years = [\"2018\", \"2019\", \"2020\", \"2021\", \"2022\", \"2023\", \"2024\"]\n",
    "DATA_PATH = \"data/\""
   ]
  },
  {
   "cell_type": "code",
   "execution_count": 4,
   "id": "3f9efdbc",
   "metadata": {},
   "outputs": [
    {
     "data": {
      "application/vnd.jupyter.widget-view+json": {
       "model_id": "aef008fd09b14fc8900775c077fd376a",
       "version_major": 2,
       "version_minor": 0
      },
      "text/plain": [
       "  0%|          | 0/7 [00:00<?, ?it/s]"
      ]
     },
     "metadata": {},
     "output_type": "display_data"
    },
    {
     "data": {
      "text/plain": [
       "F1    86.95883\n",
       "OA    87.32757\n",
       "dtype: float64"
      ]
     },
     "execution_count": 4,
     "metadata": {},
     "output_type": "execute_result"
    }
   ],
   "source": [
    "# Preload and preprocess all raw and syn data\n",
    "raw_data = {}\n",
    "syn_data = {}\n",
    "\n",
    "for year in years:\n",
    "    raw_df = pd.read_csv(DATA_PATH + year + \"_raw.csv\", index_col=0, low_memory=False)\n",
    "    raw_df.columns = [\"band\", \"date\", *[int(x) for x in raw_df.columns[2:]]]\n",
    "    raw_df = raw_df.drop(\"class\")\n",
    "    raw_df.date = pd.to_datetime(raw_df.date)\n",
    "    raw_df = raw_df.groupby([\"band\", \"date\"]).mean()\n",
    "    raw_data[year] = raw_df\n",
    "\n",
    "    syn_df = pd.read_csv(DATA_PATH + year + \"_syn_raw.csv\", index_col=0, low_memory=False)\n",
    "    syn_df.columns = [\"band\", \"date\", *[int(x) for x in syn_df.columns[2:]]]\n",
    "    y = syn_df.T.pop(\"class\")[2:].astype(int)\n",
    "    syn_df = syn_df.drop(\"class\")\n",
    "    syn_df.date = pd.to_datetime(syn_df.date)\n",
    "    syn_df = syn_df.groupby([\"band\", \"date\"]).mean()\n",
    "    syn_data[year] = (syn_df, y)\n",
    "\n",
    "results = {}\n",
    "for year in tqdm(years):\n",
    "    kf = KFold(n_splits=5, shuffle=True)\n",
    "\n",
    "    org_df = raw_data[years[0]]  # Use a single raw_df to get shape\n",
    "    df, y = syn_data[year]\n",
    "    test_df_base = raw_data[year]\n",
    "\n",
    "    for j, (train_index, test_index) in enumerate(kf.split(org_df.T[2:])):\n",
    "        test_df = test_df_base.loc[:, test_index]\n",
    "        year_nan_flag = [False]  # a mutable list with one boolean\n",
    "\n",
    "        def train_and_predict(row):\n",
    "            row = row.dropna()\n",
    "            train_df = df.loc[row.index, train_index].fillna(0)\n",
    "            y_train = y[train_index]\n",
    "\n",
    "            if train_df.isna().any().any():\n",
    "                if not year_nan_flag[0]:\n",
    "                    print(year, \"has\", train_df.isna().any().sum(), \"nan values\")\n",
    "                    year_nan_flag[0] = True\n",
    "                train_df = train_df.dropna(axis=1)\n",
    "                y_train = y[train_df.columns]\n",
    "\n",
    "            model_rf = RandomForestClassifier(n_estimators=1000)\n",
    "            model_rf.fit(train_df.T.values, y_train.values)\n",
    "            return model_rf.predict(row.T.values.reshape(1, -1))[0]\n",
    "\n",
    "\n",
    "        y_test = y[test_index]\n",
    "        y_pred_rf = Parallel(n_jobs=-1)(\n",
    "            delayed(train_and_predict)(row[1]) for row in test_df.T.iterrows()\n",
    "        )\n",
    "\n",
    "        acc_rf = 100 * metrics.accuracy_score(y_test, y_pred_rf)\n",
    "        f1_w_rf = 100 * metrics.f1_score(y_test, y_pred_rf, average='weighted')\n",
    "        results[f\"{year}_syn_raw_rf_{j}\"] = [f1_w_rf, acc_rf]\n",
    "\n",
    "# Convert results to DataFrame\n",
    "df_results = pd.DataFrame.from_dict(results, orient='index')\n",
    "\n",
    "# Name the Columns\n",
    "df_results.columns = ['F1', 'OA']\n",
    "\n",
    "# Save results to CSV\n",
    "df_results.to_csv(\"results/syn_test_raw_rf_results.csv\")\n",
    "\n",
    "df_results.mean()"
   ]
  }
 ],
 "metadata": {
  "kernelspec": {
   "display_name": "myenv",
   "language": "python",
   "name": "python3"
  },
  "language_info": {
   "codemirror_mode": {
    "name": "ipython",
    "version": 3
   },
   "file_extension": ".py",
   "mimetype": "text/x-python",
   "name": "python",
   "nbconvert_exporter": "python",
   "pygments_lexer": "ipython3",
   "version": "3.10.17"
  }
 },
 "nbformat": 4,
 "nbformat_minor": 5
}
