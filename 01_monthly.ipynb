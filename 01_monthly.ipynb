{
 "cells": [
  {
   "cell_type": "markdown",
   "id": "accredited-orange",
   "metadata": {},
   "source": [
    "This notebook explores using monthly composites."
   ]
  },
  {
   "cell_type": "code",
   "execution_count": 1,
   "id": "processed-accounting",
   "metadata": {},
   "outputs": [],
   "source": [
    "%reload_ext autoreload\n",
    "%autoreload 2\n",
    "%matplotlib inline"
   ]
  },
  {
   "cell_type": "code",
   "execution_count": 2,
   "id": "accompanied-entrance",
   "metadata": {},
   "outputs": [],
   "source": [
    "from sklearn.ensemble import RandomForestClassifier\n",
    "from sklearn.model_selection import KFold\n",
    "import numpy as np\n",
    "import pandas as pd\n",
    "from sklearn import metrics\n",
    "import lightgbm as lgb"
   ]
  },
  {
   "cell_type": "markdown",
   "id": "be3c1816",
   "metadata": {},
   "source": [
    "Variables"
   ]
  },
  {
   "cell_type": "code",
   "execution_count": 3,
   "id": "corrected-mineral",
   "metadata": {
    "tags": []
   },
   "outputs": [],
   "source": [
    "name_map = {'Larix decidua': 0,\n",
    " 'Pinus sylvestris': 1,\n",
    " 'Broadleaved trees': 2,\n",
    " 'Picea abies': 3,\n",
    " 'Pinus mugo': 4,\n",
    " 'Pinus cembra': 5,\n",
    " 'Abies alba': 6}\n",
    " # reverse the dictionary\n",
    "value_map = {v: k for k, v in name_map.items()}"
   ]
  },
  {
   "cell_type": "code",
   "execution_count": 4,
   "id": "ready-water",
   "metadata": {},
   "outputs": [],
   "source": [
    "# features\n",
    "years = [\"2018\", \"2019\", \"2020\", \"2021\", \"2022\", \"2023\", \"2024\"]\n",
    "bands = ['ndvi']\n",
    "DATA_PATH = \"data/\"\n",
    "files = [ \"_raw.csv\", \"_syn_raw.csv\"] \n",
    "data_names = [x[1:].split(\".\")[0] for x in files]\n",
    "names_id = dict((j,i) for i,j in enumerate(data_names))"
   ]
  },
  {
   "cell_type": "markdown",
   "id": "liable-tattoo",
   "metadata": {},
   "source": [
    "# Classification"
   ]
  },
  {
   "cell_type": "markdown",
   "id": "twelve-forwarding",
   "metadata": {},
   "source": [
    "Generate monthly composites to classify the time series"
   ]
  },
  {
   "cell_type": "code",
   "execution_count": 5,
   "id": "a719b2ef",
   "metadata": {},
   "outputs": [
    {
     "data": {
      "text/plain": [
       "F1    73.090153\n",
       "OA    74.054054\n",
       "dtype: float64"
      ]
     },
     "execution_count": 5,
     "metadata": {},
     "output_type": "execute_result"
    }
   ],
   "source": [
    "results = {}\n",
    "for year in years:\n",
    "    yearly_results = {}\n",
    "    \n",
    "    # load raw data once\n",
    "    df = pd.read_csv(DATA_PATH+year+\"_raw.csv\", index_col=0, low_memory=False)\n",
    "    y = df.T.pop(\"class\")[2:].astype(int)\n",
    "    df = df.drop(\"class\")\n",
    "    df.columns = [\"band\", \"date\", *[int(x) for x in df.columns[2:]]]\n",
    "    df.date = pd.to_datetime(df.date)\n",
    "    df[\"month\"] = df.date.dt.month\n",
    "    df = df.drop(\"date\", axis=1)\n",
    "    df = df.groupby([\"band\",\"month\"]).mean()\n",
    "    df = df.loc[bands]\n",
    "    df = df.fillna(0)  # Replace NaN with 0\n",
    "    \n",
    "    # Prepare features and target for k-fold\n",
    "    X = df.T.values\n",
    "    y = y.values\n",
    "    \n",
    "    fold_metrics = []\n",
    "    kf = KFold(n_splits=5, shuffle=True, random_state=42)\n",
    "    \n",
    "    # K-fold cross validation\n",
    "    for fold_idx, (train_idx, val_idx) in enumerate(kf.split(X)):\n",
    "        X_train, X_val = X[train_idx], X[val_idx]\n",
    "        y_train, y_val = y[train_idx], y[val_idx]\n",
    "        \n",
    "        # Define and train the model\n",
    "        model_rf = RandomForestClassifier(n_estimators=1000, random_state=42)\n",
    "        model_rf.fit(X_train, y_train)\n",
    "        \n",
    "        # Predict on validation set\n",
    "        y_pred_rf = model_rf.predict(X_val)\n",
    "        \n",
    "        # Calculate metrics\n",
    "        acc_rf = 100 * metrics.accuracy_score(y_val, y_pred_rf)\n",
    "        f1_w_rf = 100 * metrics.f1_score(y_val, y_pred_rf, average='weighted')\n",
    "        \n",
    "        fold_metrics.append([f1_w_rf, acc_rf])\n",
    "    \n",
    "    # Average metrics across folds\n",
    "    results[year] = np.mean(fold_metrics, axis=0).tolist()\n",
    "\n",
    "# DataFrame with F1 and OA\n",
    "df_metrics = pd.DataFrame(results).T\n",
    "df_metrics.columns = ['F1', 'OA']\n",
    "df_metrics.index.name = 'Year'\n",
    "\n",
    "# Save to CSV\n",
    "df_metrics.to_csv('RF_monthly_metrics.csv')\n",
    "df_metrics.mean()"
   ]
  },
  {
   "cell_type": "code",
   "execution_count": 6,
   "id": "0c49ad50",
   "metadata": {},
   "outputs": [
    {
     "data": {
      "text/plain": [
       "F1    72.512747\n",
       "OA    72.972973\n",
       "dtype: float64"
      ]
     },
     "execution_count": 6,
     "metadata": {},
     "output_type": "execute_result"
    }
   ],
   "source": [
    "results = {}\n",
    "for year in years:\n",
    "    yearly_results = {}\n",
    "    \n",
    "    # load raw data once\n",
    "    df = pd.read_csv(DATA_PATH+year+\"_raw.csv\", index_col=0, low_memory=False)\n",
    "    y = df.T.pop(\"class\")[2:].astype(int)\n",
    "    df = df.drop(\"class\")\n",
    "    df.columns = [\"band\", \"date\", *[int(x) for x in df.columns[2:]]]\n",
    "    df.date = pd.to_datetime(df.date)\n",
    "    df[\"month\"] = df.date.dt.month\n",
    "    df = df.drop(\"date\", axis=1)\n",
    "    df = df.groupby([\"band\",\"month\"]).mean()\n",
    "    df = df.loc[bands]\n",
    "    df = df.fillna(0)  # Replace NaN with 0\n",
    "    \n",
    "    # Prepare features and target for k-fold\n",
    "    X = df.T.values\n",
    "    y = y.values\n",
    "    \n",
    "    fold_metrics = []\n",
    "    kf = KFold(n_splits=5, shuffle=True, random_state=42)\n",
    "    \n",
    "    # K-fold cross validation\n",
    "    for fold_idx, (train_idx, val_idx) in enumerate(kf.split(X)):\n",
    "        X_train, X_val = X[train_idx], X[val_idx]\n",
    "        y_train, y_val = y[train_idx], y[val_idx]\n",
    "        \n",
    "        # Define and train the model\n",
    "        model_lgb = lgb.LGBMClassifier(\n",
    "            n_estimators=1000,\n",
    "            random_state=42,\n",
    "            objective='multiclass',\n",
    "            num_class=len(np.unique(y)),\n",
    "            metric='multi_logloss',\n",
    "            verbose=-1\n",
    "        )\n",
    "        model_lgb.fit(X_train, y_train)\n",
    "        \n",
    "        # Predict on validation set\n",
    "        y_pred_lgb = model_lgb.predict(X_val)\n",
    "        \n",
    "        # Calculate metrics\n",
    "        acc_lgb = 100 * metrics.accuracy_score(y_val, y_pred_lgb)\n",
    "        f1_w_lgb = 100 * metrics.f1_score(y_val, y_pred_lgb, average='weighted')\n",
    "        \n",
    "        fold_metrics.append([f1_w_lgb, acc_lgb])\n",
    "    \n",
    "    # Average metrics across folds\n",
    "    results[year] = np.mean(fold_metrics, axis=0).tolist()\n",
    "# DataFrame with F1 and OA\n",
    "df_metrics = pd.DataFrame(results).T\n",
    "df_metrics.columns = ['F1', 'OA']\n",
    "df_metrics.index.name = 'Year'\n",
    "\n",
    "# Save to CSV\n",
    "df_metrics.to_csv('lightGBM_monthly_metrics.csv')\n",
    "df_metrics.mean()"
   ]
  }
 ],
 "metadata": {
  "kernelspec": {
   "display_name": "eo",
   "language": "python",
   "name": "python3"
  },
  "language_info": {
   "codemirror_mode": {
    "name": "ipython",
    "version": 3
   },
   "file_extension": ".py",
   "mimetype": "text/x-python",
   "name": "python",
   "nbconvert_exporter": "python",
   "pygments_lexer": "ipython3",
   "version": "3.10.16"
  }
 },
 "nbformat": 4,
 "nbformat_minor": 5
}
