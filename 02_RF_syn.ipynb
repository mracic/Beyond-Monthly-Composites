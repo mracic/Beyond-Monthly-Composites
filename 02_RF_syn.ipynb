{
 "cells": [
  {
   "cell_type": "markdown",
   "id": "b749a806",
   "metadata": {},
   "source": [
    "This notebook explores the use synthetic data and Random Forest algorithm for forest stand classification."
   ]
  },
  {
   "cell_type": "code",
   "execution_count": 1,
   "id": "shaped-bahrain",
   "metadata": {},
   "outputs": [],
   "source": [
    "%reload_ext autoreload\n",
    "%autoreload 2\n",
    "%matplotlib inline"
   ]
  },
  {
   "cell_type": "code",
   "execution_count": 2,
   "id": "subsequent-aquarium",
   "metadata": {},
   "outputs": [],
   "source": [
    "import pandas as pd\n",
    "from joblib import Parallel, delayed\n",
    "from tqdm.notebook import tqdm"
   ]
  },
  {
   "cell_type": "code",
   "execution_count": 3,
   "id": "portuguese-surge",
   "metadata": {},
   "outputs": [],
   "source": [
    "from sklearn import metrics\n",
    "from sklearn.model_selection import KFold\n",
    "from sklearn.ensemble import RandomForestClassifier"
   ]
  },
  {
   "cell_type": "markdown",
   "id": "loose-minimum",
   "metadata": {},
   "source": [
    "# Datasets\n",
    "This notebook has random sampling of reference points.\n",
    "The lightgbm and rf model is trained on all synthetic data and tested on all raw cloud free dates."
   ]
  },
  {
   "cell_type": "code",
   "execution_count": 4,
   "id": "friendly-modern",
   "metadata": {
    "tags": []
   },
   "outputs": [],
   "source": [
    "name_map = {'Larix decidua': 0,\n",
    " 'Pinus sylvestris': 1,\n",
    " 'Broadleaved trees': 2,\n",
    " 'Picea abies': 3,\n",
    " 'Pinus mugo': 4,\n",
    " 'Pinus cembra': 5,\n",
    " 'Abies alba': 6}\n",
    " # reverse the dictionary\n",
    "value_map = {v: k for k, v in name_map.items()}"
   ]
  },
  {
   "cell_type": "code",
   "execution_count": 5,
   "id": "foster-pulse",
   "metadata": {},
   "outputs": [],
   "source": [
    "# load all features\n",
    "bands = ['B01', 'B02', 'B03', 'B04', 'B05', 'B06', 'B07', 'B08', 'B8A', 'B09','B11', 'B12', 'ndvi']\n",
    "years = [\"2018\", \"2019\", \"2020\", \"2021\", \"2022\", \"2023\", \"2024\"]\n",
    "DATA_PATH = \"data/\""
   ]
  },
  {
   "cell_type": "markdown",
   "id": "soviet-failing",
   "metadata": {},
   "source": [
    "# Each TS different model"
   ]
  },
  {
   "cell_type": "code",
   "execution_count": null,
   "id": "postal-comparison",
   "metadata": {
    "tags": []
   },
   "outputs": [
    {
     "data": {
      "application/vnd.jupyter.widget-view+json": {
       "model_id": "1e226c69328a463db72ec0dc605818ea",
       "version_major": 2,
       "version_minor": 0
      },
      "text/plain": [
       "  0%|          | 0/5 [00:00<?, ?it/s]"
      ]
     },
     "metadata": {},
     "output_type": "display_data"
    }
   ],
   "source": [
    "# Preload and preprocess all raw and syn data\n",
    "raw_data = {}\n",
    "syn_data = {}\n",
    "\n",
    "for year in years:\n",
    "    raw_df = pd.read_csv(DATA_PATH + year + \"_raw.csv\", index_col=0, low_memory=False)\n",
    "    raw_df.columns = [\"band\", \"date\", *[int(x) for x in raw_df.columns[2:]]]\n",
    "    raw_df = raw_df.drop(\"class\")\n",
    "    raw_df.date = pd.to_datetime(raw_df.date)\n",
    "    raw_df = raw_df.groupby([\"band\", \"date\"]).mean()\n",
    "    raw_data[year] = raw_df\n",
    "\n",
    "    syn_df = pd.read_csv(DATA_PATH + year + \"_syn_raw.csv\", index_col=0, low_memory=False)\n",
    "    syn_df.columns = [\"band\", \"date\", *[int(x) for x in syn_df.columns[2:]]]\n",
    "    y = syn_df.T.pop(\"class\")[2:].astype(int)\n",
    "    syn_df = syn_df.drop(\"class\")\n",
    "    syn_df.date = pd.to_datetime(syn_df.date)\n",
    "    syn_df = syn_df.groupby([\"band\", \"date\"]).mean()\n",
    "    syn_data[year] = (syn_df, y)\n",
    "\n",
    "results = {}\n",
    "for i in tqdm(range(5)):\n",
    "    yearly_results = {}\n",
    "    for year in years:   \n",
    "        kf = KFold(n_splits=5, shuffle=True)\n",
    "        \n",
    "        org_df = raw_data[years[0]]  # Use a single raw_df to get shape\n",
    "        df, y = syn_data[year]\n",
    "        test_df_base = raw_data[year]\n",
    "\n",
    "        for j, (train_index, test_index) in enumerate(kf.split(org_df.T[2:])): \n",
    "            test_df = test_df_base.loc[:, test_index]\n",
    "            year_nan_flag = [False]  # a mutable list with one boolean\n",
    "\n",
    "            def train_and_predict(row):\n",
    "                row = row.dropna()\n",
    "                train_df = df.loc[row.index, train_index].fillna(0)\n",
    "                y_train = y[train_index]\n",
    "\n",
    "                if train_df.isna().any().any():\n",
    "                    if not year_nan_flag[0]:\n",
    "                        print(year, \"has\", train_df.isna().any().sum(), \"nan values\")\n",
    "                        year_nan_flag[0] = True\n",
    "                    train_df = train_df.dropna(axis=1)\n",
    "                    y_train = y[train_df.columns]\n",
    "\n",
    "                model_rf = RandomForestClassifier(n_estimators=1000)\n",
    "                model_rf.fit(train_df.T.values, y_train.values)\n",
    "                return model_rf.predict(row.T.values.reshape(1, -1))[0]\n",
    "\n",
    "\n",
    "            y_test = y[test_index]\n",
    "            y_pred_rf = Parallel(n_jobs=-1)(\n",
    "                delayed(train_and_predict)(row[1]) for row in test_df.T.iterrows()\n",
    "            )\n",
    "\n",
    "            acc_rf = 100 * metrics.accuracy_score(y_test, y_pred_rf)\n",
    "            f1_w_rf = 100 * metrics.f1_score(y_test, y_pred_rf, average='weighted')\n",
    "            yearly_results[f\"syn_raw_rf_{j}\"] = [f1_w_rf, acc_rf]\n",
    "\n",
    "        results[f\"{year}_{i}\"] = yearly_results\n"
   ]
  },
  {
   "cell_type": "code",
   "execution_count": 15,
   "id": "sixth-public",
   "metadata": {},
   "outputs": [],
   "source": [
    "\n",
    "fold_averages = {}\n",
    "for year_iter, yearly_data in results.items():\n",
    "    year = year_iter.split('_')[0]\n",
    "    iteration = year_iter.split('_')[1]\n",
    "    if year not in fold_averages:\n",
    "        fold_averages[year] = {}\n",
    "    for fold, metrics in yearly_data.items():\n",
    "        if fold not in fold_averages[year]:\n",
    "            fold_averages[year][fold] = []\n",
    "        fold_averages[year][fold].append(metrics)\n",
    "\n",
    "# Calculate the mean across the iterations for each fold\n",
    "for year in fold_averages:\n",
    "    for fold, metrics_list in fold_averages[year].items():\n",
    "        oa_values = [metrics[1] for metrics in metrics_list]\n",
    "        f1_values = [metrics[0] for metrics in metrics_list]\n",
    "        avg_oa = sum(oa_values) / len(oa_values)\n",
    "        avg_f1 = sum(f1_values) / len(f1_values)  \n",
    "\n",
    "        fold_averages[year][fold] = [avg_f1, avg_oa]\n",
    "\n",
    "\n",
    "\n",
    "final_results = {}\n",
    "for year, fold_data in fold_averages.items():\n",
    "    oa_sum = 0\n",
    "    f1_sum = 0\n",
    "    num_folds = len(fold_data)\n",
    "    for fold, (f1, oa) in fold_data.items():\n",
    "        oa_sum += oa\n",
    "        f1_sum += f1\n",
    "    final_results[year] = {\n",
    "        \"OA\": oa_sum / num_folds,\n",
    "        \"F1\": f1_sum / num_folds\n",
    "    }\n",
    "\n",
    "df = pd.DataFrame.from_dict(final_results, orient='index')\n",
    "df.index.name = \"Year\"\n",
    "df.to_csv(\"rf_syn_raw_results.csv\")\n",
    "\n",
    "# 4. Print Average F1 and OA\n",
    "avg_f1 = df[\"F1\"].mean()\n",
    "avg_oa = df[\"OA\"].mean()\n",
    "\n",
    "print(f\"Average F1: {avg_f1}\")\n",
    "print(f\"Average OA: {avg_oa}\")"
   ]
  },
  {
   "cell_type": "code",
   "execution_count": 16,
   "id": "c07e9db1",
   "metadata": {},
   "outputs": [
    {
     "data": {
      "text/plain": [
       "{'2018_0': {'_syn_raw_rf_4': [91.11969111969111, 90.92935794616466]},\n",
       " '2019_0': {'_syn_raw_rf_4': [85.71428571428571, 84.98989128281855]},\n",
       " '2020_0': {'_syn_raw_rf_4': [87.64478764478764, 87.26101849103453]},\n",
       " '2021_0': {'_syn_raw_rf_4': [87.25868725868726, 87.06825341851444]},\n",
       " '2022_0': {'_syn_raw_rf_4': [84.55598455598455, 83.87772927182291]},\n",
       " '2023_0': {'_syn_raw_rf_4': [83.01158301158301, 82.18682138862258]},\n",
       " '2018_1': {'_syn_raw_rf_4': [89.57528957528957, 89.41947039493104]},\n",
       " '2019_1': {'_syn_raw_rf_4': [88.03088803088804, 87.38942504599912]},\n",
       " '2020_1': {'_syn_raw_rf_4': [83.3976833976834, 82.77873263069388]},\n",
       " '2021_1': {'_syn_raw_rf_4': [88.03088803088804, 87.48069686128078]},\n",
       " '2022_1': {'_syn_raw_rf_4': [87.64478764478764, 87.0402007581986]},\n",
       " '2023_1': {'_syn_raw_rf_4': [81.85328185328186, 81.1665588202287]},\n",
       " '2018_2': {'_syn_raw_rf_4': [90.34749034749035, 90.2292896055127]},\n",
       " '2019_2': {'_syn_raw_rf_4': [86.10038610038609, 85.41992831317741]},\n",
       " '2020_2': {'_syn_raw_rf_4': [87.25868725868726, 86.98068052071483]},\n",
       " '2021_2': {'_syn_raw_rf_4': [89.57528957528957, 89.22052939910084]},\n",
       " '2022_2': {'_syn_raw_rf_4': [87.64478764478764, 87.01326588585275]},\n",
       " '2023_2': {'_syn_raw_rf_4': [86.48648648648648, 86.33458141505463]},\n",
       " '2018_3': {'_syn_raw_rf_4': [88.41698841698842, 88.13627256540457]},\n",
       " '2019_3': {'_syn_raw_rf_4': [89.57528957528957, 89.48107753640664]},\n",
       " '2020_3': {'_syn_raw_rf_4': [93.43629343629344, 93.10518301343988]},\n",
       " '2021_3': {'_syn_raw_rf_4': [88.03088803088804, 87.70394418713765]},\n",
       " '2022_3': {'_syn_raw_rf_4': [88.8030888030888, 88.187745125095]},\n",
       " '2023_3': {'_syn_raw_rf_4': [85.71428571428571, 85.02912718118367]},\n",
       " '2018_4': {'_syn_raw_rf_4': [88.8030888030888, 88.76117323651937]},\n",
       " '2019_4': {'_syn_raw_rf_4': [90.73359073359073, 90.43192024873868]},\n",
       " '2020_4': {'_syn_raw_rf_4': [84.94208494208493, 84.57394659944156]},\n",
       " '2021_4': {'_syn_raw_rf_4': [85.71428571428571, 85.38505272141732]},\n",
       " '2022_4': {'_syn_raw_rf_4': [84.16988416988417, 83.10463776690273]},\n",
       " '2023_4': {'_syn_raw_rf_4': [88.03088803088804, 87.38602648211048]}}"
      ]
     },
     "execution_count": 16,
     "metadata": {},
     "output_type": "execute_result"
    }
   ],
   "source": [
    "df.mean()"
   ]
  }
 ],
 "metadata": {
  "kernelspec": {
   "display_name": "eo",
   "language": "python",
   "name": "python3"
  },
  "language_info": {
   "codemirror_mode": {
    "name": "ipython",
    "version": 3
   },
   "file_extension": ".py",
   "mimetype": "text/x-python",
   "name": "python",
   "nbconvert_exporter": "python",
   "pygments_lexer": "ipython3",
   "version": "3.10.16"
  }
 },
 "nbformat": 4,
 "nbformat_minor": 5
}
